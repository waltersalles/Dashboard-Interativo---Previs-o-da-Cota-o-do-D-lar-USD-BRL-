{
  "cells": [
    {
      "cell_type": "code",
      "source": [
        "import pandas as pd\n",
        "import numpy as np\n",
        "import random\n",
        "import datetime\n",
        "\n",
        "# Gerando dados simulados para o histórico de câmbio\n",
        "date_range = pd.date_range(start='2023-01-01', end='2024-12-31', freq='B')  # 'B' é para dias úteis\n",
        "prices = [random.uniform(4.5, 5.5) for _ in range(len(date_range))]  # valores simulados de USD/BRL entre 4.5 e 5.5\n",
        "\n",
        "# Criando o DataFrame\n",
        "historical_data = pd.DataFrame({\n",
        "    'Date': date_range,\n",
        "    'Close': prices\n",
        "})\n",
        "\n",
        "# Salvando em um arquivo CSV\n",
        "historical_data.to_csv('dolar_real_historico.csv', index=False)\n"
      ],
      "metadata": {
        "id": "rozwaMTvDV-3"
      },
      "execution_count": 5,
      "outputs": []
    },
    {
      "cell_type": "code",
      "source": [
        "# Gerando previsões simuladas para os próximos 3 meses\n",
        "forecast_dates = pd.date_range(start='2025-01-01', end='2025-03-31', freq='B')  # 'B' para dias úteis\n",
        "forecast_prices = [random.uniform(5.1, 5.8) for _ in range(len(forecast_dates))]  # valores simulados para o dólar\n",
        "\n",
        "# Criando o DataFrame de previsões\n",
        "forecast_data = pd.DataFrame({\n",
        "    'Date': forecast_dates,\n",
        "    'Predicted': forecast_prices\n",
        "})\n",
        "\n",
        "# Salvando em um arquivo CSV\n",
        "forecast_data.to_csv('previsao_dolar_3_meses.csv', index=False)\n"
      ],
      "metadata": {
        "id": "fzU1qfVHDjce"
      },
      "execution_count": 7,
      "outputs": []
    },
    {
      "cell_type": "code",
      "source": [
        "!pip install dash\n",
        "\n",
        "import dash\n",
        "from dash import dcc, html\n",
        "import plotly.graph_objs as go\n",
        "import pandas as pd\n",
        "import numpy as np\n",
        "import joblib\n",
        "from sklearn.preprocessing import MinMaxScaler\n",
        "\n",
        "# Inicializar o app Dash\n",
        "app = dash.Dash(__name__)\n",
        "server = app.server\n",
        "\n",
        "# Carregar dados históricos simulados (exemplo)\n",
        "df = pd.read_csv('dolar_real_historico.csv', parse_dates=['Date'])\n",
        "df.set_index('Date', inplace=True)\n",
        "\n",
        "# Carregar previsões já geradas (por exemplo, com LSTM previamente treinado)\n",
        "predicted = pd.read_csv('previsao_dolar_3_meses.csv', parse_dates=['Date'])\n",
        "\n",
        "# Layout do dashboard\n",
        "app.layout = html.Div(children=[\n",
        "    html.H1('Previsão do Dólar (USD/BRL)', style={'textAlign': 'center'}),\n",
        "\n",
        "    dcc.Graph(\n",
        "        id='grafico-dolar',\n",
        "        figure={\n",
        "            'data': [\n",
        "                go.Scatter(x=df.index, y=df['Close'], mode='lines', name='Histórico'),\n",
        "                go.Scatter(x=predicted['Date'], y=predicted['Predicted'], mode='lines+markers', name='Previsão')\n",
        "            ],\n",
        "            'layout': go.Layout(\n",
        "                title='Cotação do Dólar e Previsão (Próximos 3 meses)',\n",
        "                xaxis={'title': 'Data'},\n",
        "                yaxis={'title': 'Cotação (R$)'},\n",
        "                hovermode='closest'\n",
        "            )\n",
        "        }\n",
        "    ),\n",
        "\n",
        "    html.P('Dados baseados em modelo LSTM treinado com histórico de cotações.')\n",
        "])\n",
        "\n",
        "if __name__ == '__main__':\n",
        "    app.run(debug=True)"
      ],
      "metadata": {
        "id": "baUJvs1ODqh0",
        "outputId": "a226c635-07c9-411b-f1a3-f6755fecf6ed",
        "colab": {
          "base_uri": "https://localhost:8080/",
          "height": 1000
        }
      },
      "execution_count": 9,
      "outputs": [
        {
          "output_type": "stream",
          "name": "stdout",
          "text": [
            "Requirement already satisfied: dash in /usr/local/lib/python3.11/dist-packages (3.0.3)\n",
            "Requirement already satisfied: Flask<3.1,>=1.0.4 in /usr/local/lib/python3.11/dist-packages (from dash) (3.0.3)\n",
            "Requirement already satisfied: Werkzeug<3.1 in /usr/local/lib/python3.11/dist-packages (from dash) (3.0.6)\n",
            "Requirement already satisfied: plotly>=5.0.0 in /usr/local/lib/python3.11/dist-packages (from dash) (5.24.1)\n",
            "Requirement already satisfied: importlib-metadata in /usr/local/lib/python3.11/dist-packages (from dash) (8.6.1)\n",
            "Requirement already satisfied: typing-extensions>=4.1.1 in /usr/local/lib/python3.11/dist-packages (from dash) (4.13.2)\n",
            "Requirement already satisfied: requests in /usr/local/lib/python3.11/dist-packages (from dash) (2.32.3)\n",
            "Requirement already satisfied: retrying in /usr/local/lib/python3.11/dist-packages (from dash) (1.3.4)\n",
            "Requirement already satisfied: nest-asyncio in /usr/local/lib/python3.11/dist-packages (from dash) (1.6.0)\n",
            "Requirement already satisfied: setuptools in /usr/local/lib/python3.11/dist-packages (from dash) (75.2.0)\n",
            "Requirement already satisfied: Jinja2>=3.1.2 in /usr/local/lib/python3.11/dist-packages (from Flask<3.1,>=1.0.4->dash) (3.1.6)\n",
            "Requirement already satisfied: itsdangerous>=2.1.2 in /usr/local/lib/python3.11/dist-packages (from Flask<3.1,>=1.0.4->dash) (2.2.0)\n",
            "Requirement already satisfied: click>=8.1.3 in /usr/local/lib/python3.11/dist-packages (from Flask<3.1,>=1.0.4->dash) (8.1.8)\n",
            "Requirement already satisfied: blinker>=1.6.2 in /usr/local/lib/python3.11/dist-packages (from Flask<3.1,>=1.0.4->dash) (1.9.0)\n",
            "Requirement already satisfied: tenacity>=6.2.0 in /usr/local/lib/python3.11/dist-packages (from plotly>=5.0.0->dash) (9.1.2)\n",
            "Requirement already satisfied: packaging in /usr/local/lib/python3.11/dist-packages (from plotly>=5.0.0->dash) (24.2)\n",
            "Requirement already satisfied: MarkupSafe>=2.1.1 in /usr/local/lib/python3.11/dist-packages (from Werkzeug<3.1->dash) (3.0.2)\n",
            "Requirement already satisfied: zipp>=3.20 in /usr/local/lib/python3.11/dist-packages (from importlib-metadata->dash) (3.21.0)\n",
            "Requirement already satisfied: charset-normalizer<4,>=2 in /usr/local/lib/python3.11/dist-packages (from requests->dash) (3.4.1)\n",
            "Requirement already satisfied: idna<4,>=2.5 in /usr/local/lib/python3.11/dist-packages (from requests->dash) (3.10)\n",
            "Requirement already satisfied: urllib3<3,>=1.21.1 in /usr/local/lib/python3.11/dist-packages (from requests->dash) (2.3.0)\n",
            "Requirement already satisfied: certifi>=2017.4.17 in /usr/local/lib/python3.11/dist-packages (from requests->dash) (2025.1.31)\n",
            "Requirement already satisfied: six>=1.7.0 in /usr/local/lib/python3.11/dist-packages (from retrying->dash) (1.17.0)\n"
          ]
        },
        {
          "output_type": "display_data",
          "data": {
            "text/plain": [
              "<IPython.core.display.Javascript object>"
            ],
            "application/javascript": [
              "(async (port, path, width, height, cache, element) => {\n",
              "    if (!google.colab.kernel.accessAllowed && !cache) {\n",
              "      return;\n",
              "    }\n",
              "    element.appendChild(document.createTextNode(''));\n",
              "    const url = await google.colab.kernel.proxyPort(port, {cache});\n",
              "    const iframe = document.createElement('iframe');\n",
              "    iframe.src = new URL(path, url).toString();\n",
              "    iframe.height = height;\n",
              "    iframe.width = width;\n",
              "    iframe.style.border = 0;\n",
              "    iframe.allow = [\n",
              "        'accelerometer',\n",
              "        'autoplay',\n",
              "        'camera',\n",
              "        'clipboard-read',\n",
              "        'clipboard-write',\n",
              "        'gyroscope',\n",
              "        'magnetometer',\n",
              "        'microphone',\n",
              "        'serial',\n",
              "        'usb',\n",
              "        'xr-spatial-tracking',\n",
              "    ].join('; ');\n",
              "    element.appendChild(iframe);\n",
              "  })(8050, \"/\", \"100%\", 650, false, window.element)"
            ]
          },
          "metadata": {}
        }
      ]
    }
  ],
  "metadata": {
    "accelerator": "GPU",
    "colab": {
      "gpuType": "T4",
      "provenance": []
    },
    "kernelspec": {
      "display_name": "Python 3",
      "name": "python3"
    },
    "language_info": {
      "name": "python"
    }
  },
  "nbformat": 4,
  "nbformat_minor": 0
}